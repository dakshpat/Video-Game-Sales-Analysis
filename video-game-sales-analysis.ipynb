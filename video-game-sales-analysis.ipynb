{
 "cells": [
  {
   "cell_type": "code",
   "execution_count": 1,
   "id": "da23ee9d",
   "metadata": {
    "_cell_guid": "b1076dfc-b9ad-4769-8c92-a6c4dae69d19",
    "_uuid": "8f2839f25d086af736a60e9eeb907d3b93b6e0e5",
    "execution": {
     "iopub.execute_input": "2024-01-27T01:14:29.892517Z",
     "iopub.status.busy": "2024-01-27T01:14:29.891612Z",
     "iopub.status.idle": "2024-01-27T01:14:30.910741Z",
     "shell.execute_reply": "2024-01-27T01:14:30.909656Z"
    },
    "papermill": {
     "duration": 1.027897,
     "end_time": "2024-01-27T01:14:30.913441",
     "exception": false,
     "start_time": "2024-01-27T01:14:29.885544",
     "status": "completed"
    },
    "tags": []
   },
   "outputs": [
    {
     "name": "stdout",
     "output_type": "stream",
     "text": [
      "/kaggle/input/videogamesales/vgsales.csv\n"
     ]
    }
   ],
   "source": [
    "# This Python 3 environment comes with many helpful analytics libraries installed\n",
    "# It is defined by the kaggle/python Docker image: https://github.com/kaggle/docker-python\n",
    "# For example, here's several helpful packages to load\n",
    "\n",
    "import numpy as np # linear algebra\n",
    "import pandas as pd # data processing, CSV file I/O (e.g. pd.read_csv)\n",
    "import pandasql as psql # for SQL\n",
    "\n",
    "# Input data files are available in the read-only \"../input/\" directory\n",
    "# For example, running this (by clicking run or pressing Shift+Enter) will list all files under the input directory\n",
    "\n",
    "import os\n",
    "for dirname, _, filenames in os.walk('/kaggle/input'):\n",
    "    for filename in filenames:\n",
    "        print(os.path.join(dirname, filename))\n",
    "\n",
    "# You can write up to 20GB to the current directory (/kaggle/working/) that gets preserved as output when you create a version using \"Save & Run All\" \n",
    "# You can also write temporary files to /kaggle/temp/, but they won't be saved outside of the current session\n",
    "\n",
    "database_path = \"/kaggle/input/videogamesales/vgsales.csv\""
   ]
  },
  {
   "cell_type": "code",
   "execution_count": 2,
   "id": "d89145dd",
   "metadata": {
    "execution": {
     "iopub.execute_input": "2024-01-27T01:14:30.923340Z",
     "iopub.status.busy": "2024-01-27T01:14:30.922855Z",
     "iopub.status.idle": "2024-01-27T01:14:31.022644Z",
     "shell.execute_reply": "2024-01-27T01:14:31.021617Z"
    },
    "papermill": {
     "duration": 0.107214,
     "end_time": "2024-01-27T01:14:31.025042",
     "exception": false,
     "start_time": "2024-01-27T01:14:30.917828",
     "status": "completed"
    },
    "tags": []
   },
   "outputs": [
    {
     "data": {
      "text/html": [
       "<div>\n",
       "<style scoped>\n",
       "    .dataframe tbody tr th:only-of-type {\n",
       "        vertical-align: middle;\n",
       "    }\n",
       "\n",
       "    .dataframe tbody tr th {\n",
       "        vertical-align: top;\n",
       "    }\n",
       "\n",
       "    .dataframe thead th {\n",
       "        text-align: right;\n",
       "    }\n",
       "</style>\n",
       "<table border=\"1\" class=\"dataframe\">\n",
       "  <thead>\n",
       "    <tr style=\"text-align: right;\">\n",
       "      <th></th>\n",
       "      <th>Rank</th>\n",
       "      <th>Name</th>\n",
       "      <th>Platform</th>\n",
       "      <th>Year</th>\n",
       "      <th>Genre</th>\n",
       "      <th>Publisher</th>\n",
       "      <th>NA_Sales</th>\n",
       "      <th>EU_Sales</th>\n",
       "      <th>JP_Sales</th>\n",
       "      <th>Other_Sales</th>\n",
       "      <th>Global_Sales</th>\n",
       "    </tr>\n",
       "  </thead>\n",
       "  <tbody>\n",
       "    <tr>\n",
       "      <th>0</th>\n",
       "      <td>1</td>\n",
       "      <td>Wii Sports</td>\n",
       "      <td>Wii</td>\n",
       "      <td>2006.0</td>\n",
       "      <td>Sports</td>\n",
       "      <td>Nintendo</td>\n",
       "      <td>41.49</td>\n",
       "      <td>29.02</td>\n",
       "      <td>3.77</td>\n",
       "      <td>8.46</td>\n",
       "      <td>82.74</td>\n",
       "    </tr>\n",
       "    <tr>\n",
       "      <th>1</th>\n",
       "      <td>2</td>\n",
       "      <td>Super Mario Bros.</td>\n",
       "      <td>NES</td>\n",
       "      <td>1985.0</td>\n",
       "      <td>Platform</td>\n",
       "      <td>Nintendo</td>\n",
       "      <td>29.08</td>\n",
       "      <td>3.58</td>\n",
       "      <td>6.81</td>\n",
       "      <td>0.77</td>\n",
       "      <td>40.24</td>\n",
       "    </tr>\n",
       "    <tr>\n",
       "      <th>2</th>\n",
       "      <td>3</td>\n",
       "      <td>Mario Kart Wii</td>\n",
       "      <td>Wii</td>\n",
       "      <td>2008.0</td>\n",
       "      <td>Racing</td>\n",
       "      <td>Nintendo</td>\n",
       "      <td>15.85</td>\n",
       "      <td>12.88</td>\n",
       "      <td>3.79</td>\n",
       "      <td>3.31</td>\n",
       "      <td>35.82</td>\n",
       "    </tr>\n",
       "    <tr>\n",
       "      <th>3</th>\n",
       "      <td>4</td>\n",
       "      <td>Wii Sports Resort</td>\n",
       "      <td>Wii</td>\n",
       "      <td>2009.0</td>\n",
       "      <td>Sports</td>\n",
       "      <td>Nintendo</td>\n",
       "      <td>15.75</td>\n",
       "      <td>11.01</td>\n",
       "      <td>3.28</td>\n",
       "      <td>2.96</td>\n",
       "      <td>33.00</td>\n",
       "    </tr>\n",
       "    <tr>\n",
       "      <th>4</th>\n",
       "      <td>5</td>\n",
       "      <td>Pokemon Red/Pokemon Blue</td>\n",
       "      <td>GB</td>\n",
       "      <td>1996.0</td>\n",
       "      <td>Role-Playing</td>\n",
       "      <td>Nintendo</td>\n",
       "      <td>11.27</td>\n",
       "      <td>8.89</td>\n",
       "      <td>10.22</td>\n",
       "      <td>1.00</td>\n",
       "      <td>31.37</td>\n",
       "    </tr>\n",
       "  </tbody>\n",
       "</table>\n",
       "</div>"
      ],
      "text/plain": [
       "   Rank                      Name Platform    Year         Genre Publisher  \\\n",
       "0     1                Wii Sports      Wii  2006.0        Sports  Nintendo   \n",
       "1     2         Super Mario Bros.      NES  1985.0      Platform  Nintendo   \n",
       "2     3            Mario Kart Wii      Wii  2008.0        Racing  Nintendo   \n",
       "3     4         Wii Sports Resort      Wii  2009.0        Sports  Nintendo   \n",
       "4     5  Pokemon Red/Pokemon Blue       GB  1996.0  Role-Playing  Nintendo   \n",
       "\n",
       "   NA_Sales  EU_Sales  JP_Sales  Other_Sales  Global_Sales  \n",
       "0     41.49     29.02      3.77         8.46         82.74  \n",
       "1     29.08      3.58      6.81         0.77         40.24  \n",
       "2     15.85     12.88      3.79         3.31         35.82  \n",
       "3     15.75     11.01      3.28         2.96         33.00  \n",
       "4     11.27      8.89     10.22         1.00         31.37  "
      ]
     },
     "execution_count": 2,
     "metadata": {},
     "output_type": "execute_result"
    }
   ],
   "source": [
    "# Python\n",
    "data = pd.read_csv(\"/kaggle/input/videogamesales/vgsales.csv\")\n",
    "data.head()"
   ]
  },
  {
   "cell_type": "code",
   "execution_count": 3,
   "id": "37c80032",
   "metadata": {
    "_kg_hide-input": true,
    "_kg_hide-output": true,
    "collapsed": true,
    "execution": {
     "iopub.execute_input": "2024-01-27T01:14:31.035511Z",
     "iopub.status.busy": "2024-01-27T01:14:31.035117Z",
     "iopub.status.idle": "2024-01-27T01:14:31.075894Z",
     "shell.execute_reply": "2024-01-27T01:14:31.074760Z"
    },
    "jupyter": {
     "outputs_hidden": true
    },
    "papermill": {
     "duration": 0.050436,
     "end_time": "2024-01-27T01:14:31.079965",
     "exception": false,
     "start_time": "2024-01-27T01:14:31.029529",
     "status": "completed"
    },
    "tags": []
   },
   "outputs": [
    {
     "name": "stdout",
     "output_type": "stream",
     "text": [
      "<class 'pandas.core.frame.DataFrame'>\n",
      "RangeIndex: 16598 entries, 0 to 16597\n",
      "Data columns (total 11 columns):\n",
      " #   Column        Non-Null Count  Dtype  \n",
      "---  ------        --------------  -----  \n",
      " 0   Rank          16598 non-null  int64  \n",
      " 1   Name          16598 non-null  object \n",
      " 2   Platform      16598 non-null  object \n",
      " 3   Year          16327 non-null  float64\n",
      " 4   Genre         16598 non-null  object \n",
      " 5   Publisher     16540 non-null  object \n",
      " 6   NA_Sales      16598 non-null  float64\n",
      " 7   EU_Sales      16598 non-null  float64\n",
      " 8   JP_Sales      16598 non-null  float64\n",
      " 9   Other_Sales   16598 non-null  float64\n",
      " 10  Global_Sales  16598 non-null  float64\n",
      "dtypes: float64(6), int64(1), object(4)\n",
      "memory usage: 1.4+ MB\n"
     ]
    },
    {
     "data": {
      "text/plain": [
       "count    16598.000000\n",
       "mean         0.537441\n",
       "std          1.555028\n",
       "min          0.010000\n",
       "25%          0.060000\n",
       "50%          0.170000\n",
       "75%          0.470000\n",
       "max         82.740000\n",
       "Name: Global_Sales, dtype: float64"
      ]
     },
     "execution_count": 3,
     "metadata": {},
     "output_type": "execute_result"
    }
   ],
   "source": [
    "data.info()\n",
    "\n",
    "data['Platform'].value_counts() #Plataform\n",
    "\n",
    "data.Genre.unique() #Genre\n",
    "\n",
    "data['Publisher'].value_counts() #Publisher\n",
    "\n",
    "data['Global_Sales'].describe() #Global_Sales"
   ]
  },
  {
   "cell_type": "markdown",
   "id": "107d53e2",
   "metadata": {
    "papermill": {
     "duration": 0.004214,
     "end_time": "2024-01-27T01:14:31.088921",
     "exception": false,
     "start_time": "2024-01-27T01:14:31.084707",
     "status": "completed"
    },
    "tags": []
   },
   "source": [
    "# How many PS4 sales are in each region?"
   ]
  },
  {
   "cell_type": "code",
   "execution_count": 4,
   "id": "2ae22435",
   "metadata": {
    "execution": {
     "iopub.execute_input": "2024-01-27T01:14:31.101884Z",
     "iopub.status.busy": "2024-01-27T01:14:31.101476Z",
     "iopub.status.idle": "2024-01-27T01:14:31.604969Z",
     "shell.execute_reply": "2024-01-27T01:14:31.604174Z"
    },
    "papermill": {
     "duration": 0.513953,
     "end_time": "2024-01-27T01:14:31.607913",
     "exception": false,
     "start_time": "2024-01-27T01:14:31.093960",
     "status": "completed"
    },
    "tags": []
   },
   "outputs": [
    {
     "data": {
      "text/html": [
       "<div>\n",
       "<style scoped>\n",
       "    .dataframe tbody tr th:only-of-type {\n",
       "        vertical-align: middle;\n",
       "    }\n",
       "\n",
       "    .dataframe tbody tr th {\n",
       "        vertical-align: top;\n",
       "    }\n",
       "\n",
       "    .dataframe thead th {\n",
       "        text-align: right;\n",
       "    }\n",
       "</style>\n",
       "<table border=\"1\" class=\"dataframe\">\n",
       "  <thead>\n",
       "    <tr style=\"text-align: right;\">\n",
       "      <th></th>\n",
       "      <th>Num_JPN_Sales</th>\n",
       "      <th>Num_EU_Sales</th>\n",
       "      <th>Num_NA_Sales</th>\n",
       "    </tr>\n",
       "  </thead>\n",
       "  <tbody>\n",
       "    <tr>\n",
       "      <th>0</th>\n",
       "      <td>14.3</td>\n",
       "      <td>123.7</td>\n",
       "      <td>96.8</td>\n",
       "    </tr>\n",
       "  </tbody>\n",
       "</table>\n",
       "</div>"
      ],
      "text/plain": [
       "   Num_JPN_Sales  Num_EU_Sales  Num_NA_Sales\n",
       "0           14.3         123.7          96.8"
      ]
     },
     "execution_count": 4,
     "metadata": {},
     "output_type": "execute_result"
    }
   ],
   "source": [
    "query1 = psql.sqldf(\"\"\"\n",
    "                    SELECT SUM(JP_Sales) AS Num_JPN_Sales,\n",
    "                    SUM(EU_Sales) AS Num_EU_Sales,\n",
    "                    SUM(NA_Sales) AS Num_NA_Sales FROM data\n",
    "                    WHERE Platform = 'PS4' \n",
    "                    \n",
    "                    \"\"\")\n",
    "query1.head()"
   ]
  },
  {
   "cell_type": "markdown",
   "id": "cf4a940a",
   "metadata": {
    "papermill": {
     "duration": 0.004831,
     "end_time": "2024-01-27T01:14:31.617811",
     "exception": false,
     "start_time": "2024-01-27T01:14:31.612980",
     "status": "completed"
    },
    "tags": []
   },
   "source": [
    "# Which are the three best games sold in North America?"
   ]
  },
  {
   "cell_type": "code",
   "execution_count": 5,
   "id": "0cf7df74",
   "metadata": {
    "execution": {
     "iopub.execute_input": "2024-01-27T01:14:31.630101Z",
     "iopub.status.busy": "2024-01-27T01:14:31.629456Z",
     "iopub.status.idle": "2024-01-27T01:14:31.897467Z",
     "shell.execute_reply": "2024-01-27T01:14:31.896449Z"
    },
    "papermill": {
     "duration": 0.277078,
     "end_time": "2024-01-27T01:14:31.900315",
     "exception": false,
     "start_time": "2024-01-27T01:14:31.623237",
     "status": "completed"
    },
    "tags": []
   },
   "outputs": [
    {
     "data": {
      "text/html": [
       "<div>\n",
       "<style scoped>\n",
       "    .dataframe tbody tr th:only-of-type {\n",
       "        vertical-align: middle;\n",
       "    }\n",
       "\n",
       "    .dataframe tbody tr th {\n",
       "        vertical-align: top;\n",
       "    }\n",
       "\n",
       "    .dataframe thead th {\n",
       "        text-align: right;\n",
       "    }\n",
       "</style>\n",
       "<table border=\"1\" class=\"dataframe\">\n",
       "  <thead>\n",
       "    <tr style=\"text-align: right;\">\n",
       "      <th></th>\n",
       "      <th>Game</th>\n",
       "      <th>NA_Sales</th>\n",
       "    </tr>\n",
       "  </thead>\n",
       "  <tbody>\n",
       "    <tr>\n",
       "      <th>0</th>\n",
       "      <td>Wii Sports</td>\n",
       "      <td>41.49</td>\n",
       "    </tr>\n",
       "    <tr>\n",
       "      <th>1</th>\n",
       "      <td>Super Mario Bros.</td>\n",
       "      <td>29.08</td>\n",
       "    </tr>\n",
       "    <tr>\n",
       "      <th>2</th>\n",
       "      <td>Duck Hunt</td>\n",
       "      <td>26.93</td>\n",
       "    </tr>\n",
       "  </tbody>\n",
       "</table>\n",
       "</div>"
      ],
      "text/plain": [
       "                Game  NA_Sales\n",
       "0         Wii Sports     41.49\n",
       "1  Super Mario Bros.     29.08\n",
       "2          Duck Hunt     26.93"
      ]
     },
     "execution_count": 5,
     "metadata": {},
     "output_type": "execute_result"
    }
   ],
   "source": [
    "query2 = psql.sqldf(\"\"\"\n",
    "                    SELECT Name AS Game, NA_Sales  FROM data\n",
    "                    GROUP BY Name\n",
    "                    ORDER BY NA_Sales DESC\n",
    "                    LIMIT 3\n",
    "                    \n",
    "                    \"\"\")\n",
    "query2.head()"
   ]
  },
  {
   "cell_type": "markdown",
   "id": "3f0c0c0f",
   "metadata": {
    "papermill": {
     "duration": 0.004154,
     "end_time": "2024-01-27T01:14:31.909171",
     "exception": false,
     "start_time": "2024-01-27T01:14:31.905017",
     "status": "completed"
    },
    "tags": []
   },
   "source": [
    "# Which are the year, the game and the genre with the most sales?"
   ]
  },
  {
   "cell_type": "code",
   "execution_count": 6,
   "id": "8206a8cb",
   "metadata": {
    "execution": {
     "iopub.execute_input": "2024-01-27T01:14:31.919971Z",
     "iopub.status.busy": "2024-01-27T01:14:31.919206Z",
     "iopub.status.idle": "2024-01-27T01:14:32.189869Z",
     "shell.execute_reply": "2024-01-27T01:14:32.188650Z"
    },
    "papermill": {
     "duration": 0.278809,
     "end_time": "2024-01-27T01:14:32.192360",
     "exception": false,
     "start_time": "2024-01-27T01:14:31.913551",
     "status": "completed"
    },
    "tags": []
   },
   "outputs": [
    {
     "data": {
      "text/html": [
       "<div>\n",
       "<style scoped>\n",
       "    .dataframe tbody tr th:only-of-type {\n",
       "        vertical-align: middle;\n",
       "    }\n",
       "\n",
       "    .dataframe tbody tr th {\n",
       "        vertical-align: top;\n",
       "    }\n",
       "\n",
       "    .dataframe thead th {\n",
       "        text-align: right;\n",
       "    }\n",
       "</style>\n",
       "<table border=\"1\" class=\"dataframe\">\n",
       "  <thead>\n",
       "    <tr style=\"text-align: right;\">\n",
       "      <th></th>\n",
       "      <th>Global_Sales</th>\n",
       "      <th>Year</th>\n",
       "      <th>Genre</th>\n",
       "      <th>Name</th>\n",
       "    </tr>\n",
       "  </thead>\n",
       "  <tbody>\n",
       "    <tr>\n",
       "      <th>0</th>\n",
       "      <td>82.74</td>\n",
       "      <td>2006.0</td>\n",
       "      <td>Sports</td>\n",
       "      <td>Wii Sports</td>\n",
       "    </tr>\n",
       "    <tr>\n",
       "      <th>1</th>\n",
       "      <td>40.24</td>\n",
       "      <td>1985.0</td>\n",
       "      <td>Platform</td>\n",
       "      <td>Super Mario Bros.</td>\n",
       "    </tr>\n",
       "    <tr>\n",
       "      <th>2</th>\n",
       "      <td>35.82</td>\n",
       "      <td>2008.0</td>\n",
       "      <td>Racing</td>\n",
       "      <td>Mario Kart Wii</td>\n",
       "    </tr>\n",
       "    <tr>\n",
       "      <th>3</th>\n",
       "      <td>31.37</td>\n",
       "      <td>1996.0</td>\n",
       "      <td>Role-Playing</td>\n",
       "      <td>Pokemon Red/Pokemon Blue</td>\n",
       "    </tr>\n",
       "    <tr>\n",
       "      <th>4</th>\n",
       "      <td>30.26</td>\n",
       "      <td>1989.0</td>\n",
       "      <td>Puzzle</td>\n",
       "      <td>Tetris</td>\n",
       "    </tr>\n",
       "  </tbody>\n",
       "</table>\n",
       "</div>"
      ],
      "text/plain": [
       "   Global_Sales    Year         Genre                      Name\n",
       "0         82.74  2006.0        Sports                Wii Sports\n",
       "1         40.24  1985.0      Platform         Super Mario Bros.\n",
       "2         35.82  2008.0        Racing            Mario Kart Wii\n",
       "3         31.37  1996.0  Role-Playing  Pokemon Red/Pokemon Blue\n",
       "4         30.26  1989.0        Puzzle                    Tetris"
      ]
     },
     "execution_count": 6,
     "metadata": {},
     "output_type": "execute_result"
    }
   ],
   "source": [
    "query3 = psql.sqldf(\"\"\"\n",
    "                    SELECT Global_Sales, Year, Genre, Name  FROM data\n",
    "                    GROUP BY Genre\n",
    "                    ORDER BY Global_sales DESC\n",
    "                    LIMIT 5\n",
    "                    \n",
    "                    \"\"\")\n",
    "query3.head()"
   ]
  },
  {
   "cell_type": "markdown",
   "id": "aadf3f9c",
   "metadata": {
    "papermill": {
     "duration": 0.004228,
     "end_time": "2024-01-27T01:14:32.201219",
     "exception": false,
     "start_time": "2024-01-27T01:14:32.196991",
     "status": "completed"
    },
    "tags": []
   },
   "source": [
    "# We want to study just the Adventure games in the year 2015"
   ]
  },
  {
   "cell_type": "code",
   "execution_count": 7,
   "id": "5181e712",
   "metadata": {
    "execution": {
     "iopub.execute_input": "2024-01-27T01:14:32.211619Z",
     "iopub.status.busy": "2024-01-27T01:14:32.211219Z",
     "iopub.status.idle": "2024-01-27T01:14:32.545897Z",
     "shell.execute_reply": "2024-01-27T01:14:32.544656Z"
    },
    "papermill": {
     "duration": 0.342511,
     "end_time": "2024-01-27T01:14:32.548169",
     "exception": false,
     "start_time": "2024-01-27T01:14:32.205658",
     "status": "completed"
    },
    "tags": []
   },
   "outputs": [
    {
     "data": {
      "text/html": [
       "<div>\n",
       "<style scoped>\n",
       "    .dataframe tbody tr th:only-of-type {\n",
       "        vertical-align: middle;\n",
       "    }\n",
       "\n",
       "    .dataframe tbody tr th {\n",
       "        vertical-align: top;\n",
       "    }\n",
       "\n",
       "    .dataframe thead th {\n",
       "        text-align: right;\n",
       "    }\n",
       "</style>\n",
       "<table border=\"1\" class=\"dataframe\">\n",
       "  <thead>\n",
       "    <tr style=\"text-align: right;\">\n",
       "      <th></th>\n",
       "      <th>Rank</th>\n",
       "      <th>Name</th>\n",
       "      <th>Platform</th>\n",
       "      <th>Year</th>\n",
       "      <th>Genre</th>\n",
       "      <th>Publisher</th>\n",
       "      <th>NA_Sales</th>\n",
       "      <th>EU_Sales</th>\n",
       "      <th>JP_Sales</th>\n",
       "      <th>Other_Sales</th>\n",
       "      <th>Global_Sales</th>\n",
       "    </tr>\n",
       "  </thead>\n",
       "  <tbody>\n",
       "    <tr>\n",
       "      <th>0</th>\n",
       "      <td>14435</td>\n",
       "      <td>Alia's Carnival! Sacrament</td>\n",
       "      <td>PSV</td>\n",
       "      <td>2015.0</td>\n",
       "      <td>Adventure</td>\n",
       "      <td>dramatic create</td>\n",
       "      <td>0.00</td>\n",
       "      <td>0.00</td>\n",
       "      <td>0.03</td>\n",
       "      <td>0.00</td>\n",
       "      <td>0.03</td>\n",
       "    </tr>\n",
       "    <tr>\n",
       "      <th>1</th>\n",
       "      <td>15560</td>\n",
       "      <td>Amatsumi Sora ni! Kumo no Hatate ni</td>\n",
       "      <td>PSV</td>\n",
       "      <td>2015.0</td>\n",
       "      <td>Adventure</td>\n",
       "      <td>Prototype</td>\n",
       "      <td>0.00</td>\n",
       "      <td>0.00</td>\n",
       "      <td>0.02</td>\n",
       "      <td>0.00</td>\n",
       "      <td>0.02</td>\n",
       "    </tr>\n",
       "    <tr>\n",
       "      <th>2</th>\n",
       "      <td>8234</td>\n",
       "      <td>Back to the Future: The Game</td>\n",
       "      <td>PS4</td>\n",
       "      <td>2015.0</td>\n",
       "      <td>Adventure</td>\n",
       "      <td>Telltale Games</td>\n",
       "      <td>0.10</td>\n",
       "      <td>0.04</td>\n",
       "      <td>0.00</td>\n",
       "      <td>0.03</td>\n",
       "      <td>0.17</td>\n",
       "    </tr>\n",
       "    <tr>\n",
       "      <th>3</th>\n",
       "      <td>12282</td>\n",
       "      <td>Broken Sword 5: The Serpent's Curse</td>\n",
       "      <td>PS4</td>\n",
       "      <td>2015.0</td>\n",
       "      <td>Adventure</td>\n",
       "      <td>Revolution Software</td>\n",
       "      <td>0.00</td>\n",
       "      <td>0.06</td>\n",
       "      <td>0.00</td>\n",
       "      <td>0.01</td>\n",
       "      <td>0.06</td>\n",
       "    </tr>\n",
       "    <tr>\n",
       "      <th>4</th>\n",
       "      <td>9513</td>\n",
       "      <td>Brothers: A Tale of Two Sons</td>\n",
       "      <td>PS4</td>\n",
       "      <td>2015.0</td>\n",
       "      <td>Adventure</td>\n",
       "      <td>505 Games</td>\n",
       "      <td>0.03</td>\n",
       "      <td>0.08</td>\n",
       "      <td>0.00</td>\n",
       "      <td>0.02</td>\n",
       "      <td>0.13</td>\n",
       "    </tr>\n",
       "  </tbody>\n",
       "</table>\n",
       "</div>"
      ],
      "text/plain": [
       "    Rank                                 Name Platform    Year      Genre  \\\n",
       "0  14435           Alia's Carnival! Sacrament      PSV  2015.0  Adventure   \n",
       "1  15560  Amatsumi Sora ni! Kumo no Hatate ni      PSV  2015.0  Adventure   \n",
       "2   8234         Back to the Future: The Game      PS4  2015.0  Adventure   \n",
       "3  12282  Broken Sword 5: The Serpent's Curse      PS4  2015.0  Adventure   \n",
       "4   9513         Brothers: A Tale of Two Sons      PS4  2015.0  Adventure   \n",
       "\n",
       "             Publisher  NA_Sales  EU_Sales  JP_Sales  Other_Sales  \\\n",
       "0      dramatic create      0.00      0.00      0.03         0.00   \n",
       "1            Prototype      0.00      0.00      0.02         0.00   \n",
       "2       Telltale Games      0.10      0.04      0.00         0.03   \n",
       "3  Revolution Software      0.00      0.06      0.00         0.01   \n",
       "4            505 Games      0.03      0.08      0.00         0.02   \n",
       "\n",
       "   Global_Sales  \n",
       "0          0.03  \n",
       "1          0.02  \n",
       "2          0.17  \n",
       "3          0.06  \n",
       "4          0.13  "
      ]
     },
     "execution_count": 7,
     "metadata": {},
     "output_type": "execute_result"
    }
   ],
   "source": [
    "query4 = psql.sqldf(\"\"\"\n",
    "                    SELECT * FROM data\n",
    "                    WHERE Genre = 'Adventure' AND Year = 2015\n",
    "                    GROUP BY Name\n",
    "                    \n",
    "                    \"\"\")\n",
    "query4.head()"
   ]
  },
  {
   "cell_type": "markdown",
   "id": "e9f6c14d",
   "metadata": {
    "papermill": {
     "duration": 0.004513,
     "end_time": "2024-01-27T01:14:32.557526",
     "exception": false,
     "start_time": "2024-01-27T01:14:32.553013",
     "status": "completed"
    },
    "tags": []
   },
   "source": [
    "# Display the number of shooter games with more than 1.3 sales in Europe"
   ]
  },
  {
   "cell_type": "code",
   "execution_count": 8,
   "id": "ce17882d",
   "metadata": {
    "execution": {
     "iopub.execute_input": "2024-01-27T01:14:32.569720Z",
     "iopub.status.busy": "2024-01-27T01:14:32.568738Z",
     "iopub.status.idle": "2024-01-27T01:14:32.861616Z",
     "shell.execute_reply": "2024-01-27T01:14:32.860350Z"
    },
    "papermill": {
     "duration": 0.302211,
     "end_time": "2024-01-27T01:14:32.864484",
     "exception": false,
     "start_time": "2024-01-27T01:14:32.562273",
     "status": "completed"
    },
    "tags": []
   },
   "outputs": [
    {
     "data": {
      "text/html": [
       "<div>\n",
       "<style scoped>\n",
       "    .dataframe tbody tr th:only-of-type {\n",
       "        vertical-align: middle;\n",
       "    }\n",
       "\n",
       "    .dataframe tbody tr th {\n",
       "        vertical-align: top;\n",
       "    }\n",
       "\n",
       "    .dataframe thead th {\n",
       "        text-align: right;\n",
       "    }\n",
       "</style>\n",
       "<table border=\"1\" class=\"dataframe\">\n",
       "  <thead>\n",
       "    <tr style=\"text-align: right;\">\n",
       "      <th></th>\n",
       "      <th>num_Games</th>\n",
       "    </tr>\n",
       "  </thead>\n",
       "  <tbody>\n",
       "    <tr>\n",
       "      <th>0</th>\n",
       "      <td>32</td>\n",
       "    </tr>\n",
       "  </tbody>\n",
       "</table>\n",
       "</div>"
      ],
      "text/plain": [
       "   num_Games\n",
       "0         32"
      ]
     },
     "execution_count": 8,
     "metadata": {},
     "output_type": "execute_result"
    }
   ],
   "source": [
    "query5 = psql.sqldf(\"\"\"\n",
    "                    SELECT COUNT(DISTINCT(Name)) AS num_Games FROM data\n",
    "                    WHERE Genre = 'Shooter' AND EU_Sales > 1.3\n",
    "                    ORDER BY EU_Sales DESC\n",
    "                    \n",
    "                    \"\"\")\n",
    "query5.head()"
   ]
  }
 ],
 "metadata": {
  "kaggle": {
   "accelerator": "none",
   "dataSources": [
    {
     "datasetId": 284,
     "sourceId": 618,
     "sourceType": "datasetVersion"
    }
   ],
   "dockerImageVersionId": 30635,
   "isGpuEnabled": false,
   "isInternetEnabled": true,
   "language": "python",
   "sourceType": "notebook"
  },
  "kernelspec": {
   "display_name": "Python 3",
   "language": "python",
   "name": "python3"
  },
  "language_info": {
   "codemirror_mode": {
    "name": "ipython",
    "version": 3
   },
   "file_extension": ".py",
   "mimetype": "text/x-python",
   "name": "python",
   "nbconvert_exporter": "python",
   "pygments_lexer": "ipython3",
   "version": "3.10.12"
  },
  "papermill": {
   "default_parameters": {},
   "duration": 6.588862,
   "end_time": "2024-01-27T01:14:33.492077",
   "environment_variables": {},
   "exception": null,
   "input_path": "__notebook__.ipynb",
   "output_path": "__notebook__.ipynb",
   "parameters": {},
   "start_time": "2024-01-27T01:14:26.903215",
   "version": "2.4.0"
  }
 },
 "nbformat": 4,
 "nbformat_minor": 5
}
